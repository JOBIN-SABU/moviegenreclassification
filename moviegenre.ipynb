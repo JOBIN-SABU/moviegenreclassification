{
 "cells": [
  {
   "cell_type": "code",
   "execution_count": 2,
   "id": "cbf8a4c8",
   "metadata": {},
   "outputs": [],
   "source": [
    "import pandas as pd\n",
    "\n",
    "train_df = pd.read_csv(r'C:\\Users\\85job\\OneDrive\\Desktop\\datafolder\\moviegenre\\train_data.txt', sep=' ::: ', names=['Title', 'Genre', 'Description'], engine='python')\n",
    "test_df = pd.read_csv(r'C:\\Users\\85job\\OneDrive\\Desktop\\datafolder\\moviegenre\\test_data.txt', sep=' ::: ', names=['Title', 'Genre', 'Description'], engine='python')"
   ]
  },
  {
   "cell_type": "code",
   "execution_count": 3,
   "id": "a00d8acc",
   "metadata": {},
   "outputs": [
    {
     "name": "stdout",
     "output_type": "stream",
     "text": [
      "                                             Title        Genre  \\\n",
      "\"1                    Oscar et la dame rose (2009)        drama   \n",
      "2                                     Cupid (1997)     thriller   \n",
      "\"3                Young, Wild and Wonderful (1980)        adult   \n",
      "\"4                           The Secret Sin (1915)        drama   \n",
      "\"5                          The Unrecovered (2007)        drama   \n",
      "...                                            ...          ...   \n",
      "\"54210                           \"\"Bonino\"\" (1953)       comedy   \n",
      "\"54211                 Dead Girls Don't Cry (????)       horror   \n",
      "\"54212   Ronald Goedemondt: Ze bestaan echt (2008)  documentary   \n",
      "\"54213                    Make Your Own Bed (1944)       comedy   \n",
      "\"54214  Nature's Fury: Storm of the Century (2006)      history   \n",
      "\n",
      "                                              Description  \n",
      "\"1      Listening in to a conversation between his doc...  \n",
      "2       A brother and sister with a past incestuous re...  \n",
      "\"3      As the bus empties the students for their fiel...  \n",
      "\"4      To help their unemployed father make ends meet...  \n",
      "\"5      The film's title refers not only to the un-rec...  \n",
      "...                                                   ...  \n",
      "\"54210  This short-lived NBC live sitcom centered on B...  \n",
      "\"54211  The NEXT Generation of EXPLOITATION. The siste...  \n",
      "\"54212  Ze bestaan echt, is a stand-up comedy about gr...  \n",
      "\"54213  Walter and Vivian live in the country and have...  \n",
      "\"54214  On Labor Day Weekend, 1935, the most intense h...  \n",
      "\n",
      "[54214 rows x 3 columns]\n"
     ]
    }
   ],
   "source": [
    "print(train_df)"
   ]
  },
  {
   "cell_type": "code",
   "execution_count": 4,
   "id": "5fe0d4e1",
   "metadata": {},
   "outputs": [
    {
     "name": "stdout",
     "output_type": "stream",
     "text": [
      "       Title                           Genre  \\\n",
      "0          1            Edgar's Lunch (1998)   \n",
      "1          2        La guerra de papá (1977)   \n",
      "2          3     Off the Beaten Track (2010)   \n",
      "3          4          Meu Amigo Hindu (2015)   \n",
      "4          5               Er nu zhai (1955)   \n",
      "...      ...                             ...   \n",
      "54195  54196  \"Tales of Light & Dark\" (2013)   \n",
      "54196  54197     Der letzte Mohikaner (1965)   \n",
      "54197  54198             Oliver Twink (2007)   \n",
      "54198  54199               Slipstream (1973)   \n",
      "54199  54200       Curitiba Zero Grau (2010)   \n",
      "\n",
      "                                             Description  \n",
      "0      L.R. Brane loves his life - his car, his apart...  \n",
      "1      Spain, March 1964: Quico is a very naughty chi...  \n",
      "2      One year in the life of Albin and his family o...  \n",
      "3      His father has died, he hasn't spoken with his...  \n",
      "4      Before he was known internationally as a marti...  \n",
      "...                                                  ...  \n",
      "54195  Covering multiple genres, Tales of Light & Dar...  \n",
      "54196  As Alice and Cora Munro attempt to find their ...  \n",
      "54197  A movie 169 years in the making. Oliver Twist,...  \n",
      "54198  Popular, but mysterious rock D.J Mike Mallard ...  \n",
      "54199  Curitiba is a city in movement, with rhythms a...  \n",
      "\n",
      "[54200 rows x 3 columns]\n"
     ]
    }
   ],
   "source": [
    "print(test_df)"
   ]
  },
  {
   "cell_type": "code",
   "execution_count": 5,
   "id": "d9b5bb70",
   "metadata": {},
   "outputs": [
    {
     "data": {
      "text/html": [
       "<div>\n",
       "<style scoped>\n",
       "    .dataframe tbody tr th:only-of-type {\n",
       "        vertical-align: middle;\n",
       "    }\n",
       "\n",
       "    .dataframe tbody tr th {\n",
       "        vertical-align: top;\n",
       "    }\n",
       "\n",
       "    .dataframe thead th {\n",
       "        text-align: right;\n",
       "    }\n",
       "</style>\n",
       "<table border=\"1\" class=\"dataframe\">\n",
       "  <thead>\n",
       "    <tr style=\"text-align: right;\">\n",
       "      <th></th>\n",
       "      <th>Title</th>\n",
       "      <th>Genre</th>\n",
       "      <th>Description</th>\n",
       "    </tr>\n",
       "  </thead>\n",
       "  <tbody>\n",
       "    <tr>\n",
       "      <th>\"1</th>\n",
       "      <td>False</td>\n",
       "      <td>False</td>\n",
       "      <td>False</td>\n",
       "    </tr>\n",
       "    <tr>\n",
       "      <th>2</th>\n",
       "      <td>False</td>\n",
       "      <td>False</td>\n",
       "      <td>False</td>\n",
       "    </tr>\n",
       "    <tr>\n",
       "      <th>\"3</th>\n",
       "      <td>False</td>\n",
       "      <td>False</td>\n",
       "      <td>False</td>\n",
       "    </tr>\n",
       "    <tr>\n",
       "      <th>\"4</th>\n",
       "      <td>False</td>\n",
       "      <td>False</td>\n",
       "      <td>False</td>\n",
       "    </tr>\n",
       "    <tr>\n",
       "      <th>\"5</th>\n",
       "      <td>False</td>\n",
       "      <td>False</td>\n",
       "      <td>False</td>\n",
       "    </tr>\n",
       "    <tr>\n",
       "      <th>...</th>\n",
       "      <td>...</td>\n",
       "      <td>...</td>\n",
       "      <td>...</td>\n",
       "    </tr>\n",
       "    <tr>\n",
       "      <th>\"54210</th>\n",
       "      <td>False</td>\n",
       "      <td>False</td>\n",
       "      <td>False</td>\n",
       "    </tr>\n",
       "    <tr>\n",
       "      <th>\"54211</th>\n",
       "      <td>False</td>\n",
       "      <td>False</td>\n",
       "      <td>False</td>\n",
       "    </tr>\n",
       "    <tr>\n",
       "      <th>\"54212</th>\n",
       "      <td>False</td>\n",
       "      <td>False</td>\n",
       "      <td>False</td>\n",
       "    </tr>\n",
       "    <tr>\n",
       "      <th>\"54213</th>\n",
       "      <td>False</td>\n",
       "      <td>False</td>\n",
       "      <td>False</td>\n",
       "    </tr>\n",
       "    <tr>\n",
       "      <th>\"54214</th>\n",
       "      <td>False</td>\n",
       "      <td>False</td>\n",
       "      <td>False</td>\n",
       "    </tr>\n",
       "  </tbody>\n",
       "</table>\n",
       "<p>54214 rows × 3 columns</p>\n",
       "</div>"
      ],
      "text/plain": [
       "        Title  Genre  Description\n",
       "\"1      False  False        False\n",
       "2       False  False        False\n",
       "\"3      False  False        False\n",
       "\"4      False  False        False\n",
       "\"5      False  False        False\n",
       "...       ...    ...          ...\n",
       "\"54210  False  False        False\n",
       "\"54211  False  False        False\n",
       "\"54212  False  False        False\n",
       "\"54213  False  False        False\n",
       "\"54214  False  False        False\n",
       "\n",
       "[54214 rows x 3 columns]"
      ]
     },
     "execution_count": 5,
     "metadata": {},
     "output_type": "execute_result"
    }
   ],
   "source": [
    "train_df.isnull()"
   ]
  },
  {
   "cell_type": "code",
   "execution_count": 6,
   "id": "9e8e6c48",
   "metadata": {},
   "outputs": [
    {
     "name": "stdout",
     "output_type": "stream",
     "text": [
      "drama          13613\n",
      "documentary    13096\n",
      "comedy          7447\n",
      "short           5073\n",
      "horror          2204\n",
      "thriller        1591\n",
      "action          1315\n",
      "western         1032\n",
      "reality-tv       884\n",
      "family           784\n",
      "adventure        775\n",
      "music            731\n",
      "romance          672\n",
      "sci-fi           647\n",
      "adult            590\n",
      "crime            505\n",
      "animation        498\n",
      "sport            432\n",
      "talk-show        391\n",
      "fantasy          323\n",
      "mystery          319\n",
      "musical          277\n",
      "biography        265\n",
      "history          243\n",
      "game-show        194\n",
      "news             181\n",
      "war              132\n",
      "Name: Genre, dtype: int64\n"
     ]
    }
   ],
   "source": [
    "print(train_df['Genre'].value_counts())"
   ]
  },
  {
   "cell_type": "code",
   "execution_count": 7,
   "id": "69097cd3",
   "metadata": {},
   "outputs": [],
   "source": [
    "train_df = train_df.drop_duplicates()\n",
    "test_df = test_df.drop_duplicates()"
   ]
  },
  {
   "cell_type": "code",
   "execution_count": 8,
   "id": "4327147d",
   "metadata": {},
   "outputs": [
    {
     "name": "stderr",
     "output_type": "stream",
     "text": [
      "C:\\Users\\85job\\anaconda3\\lib\\site-packages\\scipy\\__init__.py:146: UserWarning: A NumPy version >=1.16.5 and <1.23.0 is required for this version of SciPy (detected version 1.23.0\n",
      "  warnings.warn(f\"A NumPy version >={np_minversion} and <{np_maxversion}\"\n"
     ]
    }
   ],
   "source": [
    "from sklearn.feature_extraction.text import TfidfVectorizer\n",
    "\n",
    "tfidf = TfidfVectorizer(max_features=5000)  \n",
    "X_train = tfidf.fit_transform(train_df['Description']).toarray()\n",
    "X_test = tfidf.transform(test_df['Description']).toarray()\n",
    "y_train = train_df['Genre']\n",
    "y_test = test_df['Genre']"
   ]
  },
  {
   "cell_type": "code",
   "execution_count": 11,
   "id": "0a211b49",
   "metadata": {},
   "outputs": [
    {
     "name": "stdout",
     "output_type": "stream",
     "text": [
      "Training data shape: (54214, 30)\n",
      "Test data shape: (54200, 30)\n"
     ]
    }
   ],
   "source": [
    "from sklearn.feature_extraction.text import TfidfVectorizer\n",
    "\n",
    "text_column = 'Genre' \n",
    "\n",
    "# Initialize the TfidfVectorizer\n",
    "tfidf_vectorizer = TfidfVectorizer()\n",
    "\n",
    "\n",
    "X_train_vectorized = tfidf_vectorizer.fit_transform(train_df[text_column])\n",
    "X_test_vectorized = tfidf_vectorizer.transform(test_df[text_column])\n",
    "\n",
    "\n",
    "X_train = pd.DataFrame(X_train_vectorized.toarray(), columns=tfidf_vectorizer.get_feature_names_out())\n",
    "X_test = pd.DataFrame(X_test_vectorized.toarray(), columns=tfidf_vectorizer.get_feature_names_out())\n",
    "\n",
    "# Print shapes to verify\n",
    "print(\"Training data shape:\", X_train.shape)\n",
    "print(\"Test data shape:\", X_test.shape)"
   ]
  },
  {
   "cell_type": "code",
   "execution_count": 12,
   "id": "eafe6e40",
   "metadata": {},
   "outputs": [],
   "source": [
    "from sklearn.ensemble import RandomForestClassifier\n",
    "\n",
    "model = RandomForestClassifier(class_weight='balanced',random_state = 42)\n",
    "model.fit(X_train, y_train)\n",
    "y_pred = model.predict(X_test)"
   ]
  },
  {
   "cell_type": "code",
   "execution_count": 13,
   "id": "e74ea279",
   "metadata": {},
   "outputs": [],
   "source": [
    "from sklearn.model_selection import train_test_split\n",
    "\n",
    "\n",
    "X_small, _, y_small, _ = train_test_split(X_test, y_test, test_size=0.9, random_state=42)"
   ]
  },
  {
   "cell_type": "code",
   "execution_count": 14,
   "id": "28f043e3",
   "metadata": {},
   "outputs": [
    {
     "name": "stdout",
     "output_type": "stream",
     "text": [
      "30257                         The 21st Second (2009)\n",
      "35595                         \"Yard Sale 411\" (????)\n",
      "22164           50 Ways to Leave Your Drummer (2015)\n",
      "44594                         Ninja death III (1987)\n",
      "4996                            The Runner (2016/VI)\n",
      "                            ...                     \n",
      "11284    In a Moment: The Johan Aspelin Story (????)\n",
      "44732                           Unbreakable (2017/I)\n",
      "38158                             It's Winter (2006)\n",
      "860       The Willing Suspension of Disbelief (2007)\n",
      "15795                    The Amazing Omelette (2005)\n",
      "Name: Genre, Length: 5420, dtype: object ['war' 'war' 'war' ... 'war' 'war' 'war']\n"
     ]
    }
   ],
   "source": [
    "from sklearn.metrics import classification_report\n",
    "\n",
    "y_pred_small = model.predict(X_small)\n",
    "print(y_small,y_pred_small) "
   ]
  },
  {
   "cell_type": "code",
   "execution_count": 16,
   "id": "577875a3",
   "metadata": {},
   "outputs": [
    {
     "name": "stdout",
     "output_type": "stream",
     "text": [
      "Cross-validation F1 scores: [1. 1. 1. 1. 1.]\n",
      "Average F1 score: 1.0\n"
     ]
    }
   ],
   "source": [
    "from sklearn.model_selection import cross_val_score\n",
    "scores = cross_val_score(model, X_train, y_train, cv=5, scoring='f1_weighted')\n",
    "print(\"Cross-validation F1 scores:\", scores)\n",
    "print(\"Average F1 score:\", scores.mean())"
   ]
  }
 ],
 "metadata": {
  "kernelspec": {
   "display_name": "Python 3 (ipykernel)",
   "language": "python",
   "name": "python3"
  },
  "language_info": {
   "codemirror_mode": {
    "name": "ipython",
    "version": 3
   },
   "file_extension": ".py",
   "mimetype": "text/x-python",
   "name": "python",
   "nbconvert_exporter": "python",
   "pygments_lexer": "ipython3",
   "version": "3.9.7"
  }
 },
 "nbformat": 4,
 "nbformat_minor": 5
}
